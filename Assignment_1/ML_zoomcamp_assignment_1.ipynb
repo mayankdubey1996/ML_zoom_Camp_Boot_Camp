{
 "cells": [
  {
   "cell_type": "code",
   "execution_count": 9,
   "id": "affiliated-corps",
   "metadata": {},
   "outputs": [],
   "source": [
    "import pandas as pd\n",
    "import pyarrow.parquet as pq\n",
    "import numpy as np\n",
    "import matplotlib.pyplot as plt\n",
    "import seaborn as sns\n",
    "import datetime\n",
    "from sklearn.feature_extraction import DictVectorizer\n",
    "from sklearn.linear_model import LinearRegression\n",
    "from sklearn.metrics import mean_squared_error\n",
    "import pickle"
   ]
  },
  {
   "cell_type": "code",
   "execution_count": 10,
   "id": "eastern-examination",
   "metadata": {},
   "outputs": [],
   "source": [
    "pd.set_option('display.float_format', lambda x: '%.5f' % x)"
   ]
  },
  {
   "cell_type": "markdown",
   "id": "passive-tokyo",
   "metadata": {},
   "source": [
    "#### Q1. Read the data for January. How many records are there?"
   ]
  },
  {
   "cell_type": "code",
   "execution_count": 11,
   "id": "official-insulin",
   "metadata": {},
   "outputs": [],
   "source": [
    "df = pq.read_table(source='fhv_tripdata_2021-01.parquet').to_pandas()"
   ]
  },
  {
   "cell_type": "code",
   "execution_count": 12,
   "id": "lucky-equity",
   "metadata": {},
   "outputs": [
    {
     "data": {
      "text/html": [
       "<div>\n",
       "<style scoped>\n",
       "    .dataframe tbody tr th:only-of-type {\n",
       "        vertical-align: middle;\n",
       "    }\n",
       "\n",
       "    .dataframe tbody tr th {\n",
       "        vertical-align: top;\n",
       "    }\n",
       "\n",
       "    .dataframe thead th {\n",
       "        text-align: right;\n",
       "    }\n",
       "</style>\n",
       "<table border=\"1\" class=\"dataframe\">\n",
       "  <thead>\n",
       "    <tr style=\"text-align: right;\">\n",
       "      <th></th>\n",
       "      <th>dispatching_base_num</th>\n",
       "      <th>pickup_datetime</th>\n",
       "      <th>dropOff_datetime</th>\n",
       "      <th>PUlocationID</th>\n",
       "      <th>DOlocationID</th>\n",
       "      <th>SR_Flag</th>\n",
       "      <th>Affiliated_base_number</th>\n",
       "    </tr>\n",
       "  </thead>\n",
       "  <tbody>\n",
       "    <tr>\n",
       "      <th>0</th>\n",
       "      <td>B00009</td>\n",
       "      <td>2021-01-01 00:27:00</td>\n",
       "      <td>2021-01-01 00:44:00</td>\n",
       "      <td>nan</td>\n",
       "      <td>nan</td>\n",
       "      <td>None</td>\n",
       "      <td>B00009</td>\n",
       "    </tr>\n",
       "    <tr>\n",
       "      <th>1</th>\n",
       "      <td>B00009</td>\n",
       "      <td>2021-01-01 00:50:00</td>\n",
       "      <td>2021-01-01 01:07:00</td>\n",
       "      <td>nan</td>\n",
       "      <td>nan</td>\n",
       "      <td>None</td>\n",
       "      <td>B00009</td>\n",
       "    </tr>\n",
       "    <tr>\n",
       "      <th>2</th>\n",
       "      <td>B00013</td>\n",
       "      <td>2021-01-01 00:01:00</td>\n",
       "      <td>2021-01-01 01:51:00</td>\n",
       "      <td>nan</td>\n",
       "      <td>nan</td>\n",
       "      <td>None</td>\n",
       "      <td>B00013</td>\n",
       "    </tr>\n",
       "    <tr>\n",
       "      <th>3</th>\n",
       "      <td>B00037</td>\n",
       "      <td>2021-01-01 00:13:09</td>\n",
       "      <td>2021-01-01 00:21:26</td>\n",
       "      <td>nan</td>\n",
       "      <td>72.00000</td>\n",
       "      <td>None</td>\n",
       "      <td>B00037</td>\n",
       "    </tr>\n",
       "    <tr>\n",
       "      <th>4</th>\n",
       "      <td>B00037</td>\n",
       "      <td>2021-01-01 00:38:31</td>\n",
       "      <td>2021-01-01 00:53:44</td>\n",
       "      <td>nan</td>\n",
       "      <td>61.00000</td>\n",
       "      <td>None</td>\n",
       "      <td>B00037</td>\n",
       "    </tr>\n",
       "  </tbody>\n",
       "</table>\n",
       "</div>"
      ],
      "text/plain": [
       "  dispatching_base_num     pickup_datetime    dropOff_datetime  PUlocationID  \\\n",
       "0               B00009 2021-01-01 00:27:00 2021-01-01 00:44:00           nan   \n",
       "1               B00009 2021-01-01 00:50:00 2021-01-01 01:07:00           nan   \n",
       "2               B00013 2021-01-01 00:01:00 2021-01-01 01:51:00           nan   \n",
       "3               B00037 2021-01-01 00:13:09 2021-01-01 00:21:26           nan   \n",
       "4               B00037 2021-01-01 00:38:31 2021-01-01 00:53:44           nan   \n",
       "\n",
       "   DOlocationID SR_Flag Affiliated_base_number  \n",
       "0           nan    None                 B00009  \n",
       "1           nan    None                 B00009  \n",
       "2           nan    None                 B00013  \n",
       "3      72.00000    None                 B00037  \n",
       "4      61.00000    None                 B00037  "
      ]
     },
     "execution_count": 12,
     "metadata": {},
     "output_type": "execute_result"
    }
   ],
   "source": [
    "df.head()"
   ]
  },
  {
   "cell_type": "code",
   "execution_count": 13,
   "id": "middle-rebel",
   "metadata": {},
   "outputs": [
    {
     "data": {
      "text/plain": [
       "(1154112, 7)"
      ]
     },
     "execution_count": 13,
     "metadata": {},
     "output_type": "execute_result"
    }
   ],
   "source": [
    "df.shape"
   ]
  },
  {
   "cell_type": "markdown",
   "id": "operational-clark",
   "metadata": {},
   "source": [
    "#### Q.2 What's the average trip duration in January?"
   ]
  },
  {
   "cell_type": "code",
   "execution_count": 14,
   "id": "olive-naples",
   "metadata": {},
   "outputs": [],
   "source": [
    " df['duration'] = df['dropOff_datetime'] -  df['pickup_datetime']"
   ]
  },
  {
   "cell_type": "code",
   "execution_count": 15,
   "id": "chemical-jurisdiction",
   "metadata": {},
   "outputs": [],
   "source": [
    "df['duration'] = df['duration'].apply(lambda td: td.total_seconds()/60)"
   ]
  },
  {
   "cell_type": "code",
   "execution_count": 16,
   "id": "beautiful-costs",
   "metadata": {},
   "outputs": [
    {
     "data": {
      "text/plain": [
       "19.167224093791006"
      ]
     },
     "execution_count": 16,
     "metadata": {},
     "output_type": "execute_result"
    }
   ],
   "source": [
    "np.mean(df['duration'])"
   ]
  },
  {
   "cell_type": "markdown",
   "id": "rising-memory",
   "metadata": {},
   "source": [
    "#### Data preparation\n",
    "Check the distribution of the duration variable. There are some outliers.\n",
    "\n",
    "Let's remove them and keep only the records where the duration was between 1 and 60 minutes (inclusive).\n",
    "\n",
    "How many records did you drop?"
   ]
  },
  {
   "cell_type": "code",
   "execution_count": 17,
   "id": "ordered-newport",
   "metadata": {},
   "outputs": [
    {
     "data": {
      "text/plain": [
       "count   1154112.00000\n",
       "mean         19.16722\n",
       "std         398.69216\n",
       "min           0.01667\n",
       "50%          13.40000\n",
       "95%          47.25000\n",
       "98%          66.13333\n",
       "99%          90.30000\n",
       "max      423371.05000\n",
       "Name: duration, dtype: float64"
      ]
     },
     "execution_count": 17,
     "metadata": {},
     "output_type": "execute_result"
    }
   ],
   "source": [
    "df.duration.describe(percentiles = [0.95, 0.98, 0.99])"
   ]
  },
  {
   "cell_type": "code",
   "execution_count": 18,
   "id": "motivated-premises",
   "metadata": {},
   "outputs": [
    {
     "data": {
      "text/plain": [
       "0.9616276409915155"
      ]
     },
     "execution_count": 18,
     "metadata": {},
     "output_type": "execute_result"
    }
   ],
   "source": [
    "((df.duration>=1) & (df.duration<=60)).mean()\n",
    "#96% data is between 1 min and 60 mins: It will be good to focus on them"
   ]
  },
  {
   "cell_type": "code",
   "execution_count": 19,
   "id": "hungry-broadway",
   "metadata": {},
   "outputs": [],
   "source": [
    "df_60 = df[(df.duration>=1) & (df.duration<=60)]"
   ]
  },
  {
   "cell_type": "code",
   "execution_count": 20,
   "id": "tough-insulation",
   "metadata": {},
   "outputs": [
    {
     "data": {
      "text/plain": [
       "44286"
      ]
     },
     "execution_count": 20,
     "metadata": {},
     "output_type": "execute_result"
    }
   ],
   "source": [
    "df.shape[0] - df_60.shape[0]"
   ]
  },
  {
   "cell_type": "markdown",
   "id": "governing-reconstruction",
   "metadata": {},
   "source": [
    "#### Q3. Missing values\n",
    "The features we'll use for our model are the pickup and dropoff location IDs.\n",
    "\n",
    "But they have a lot of missing values there. Let's replace them with \"-1\".\n",
    "\n",
    "What's the fractions of missing values for the pickup location ID? I.e. fraction of \"-1\"s after you filled the NAs."
   ]
  },
  {
   "cell_type": "code",
   "execution_count": 21,
   "id": "suffering-premiere",
   "metadata": {},
   "outputs": [
    {
     "name": "stderr",
     "output_type": "stream",
     "text": [
      "C:\\Users\\mayan\\anaconda3\\envs\\gputest\\lib\\site-packages\\ipykernel_launcher.py:1: SettingWithCopyWarning: \n",
      "A value is trying to be set on a copy of a slice from a DataFrame.\n",
      "Try using .loc[row_indexer,col_indexer] = value instead\n",
      "\n",
      "See the caveats in the documentation: https://pandas.pydata.org/pandas-docs/stable/user_guide/indexing.html#returning-a-view-versus-a-copy\n",
      "  \"\"\"Entry point for launching an IPython kernel.\n",
      "C:\\Users\\mayan\\anaconda3\\envs\\gputest\\lib\\site-packages\\ipykernel_launcher.py:2: SettingWithCopyWarning: \n",
      "A value is trying to be set on a copy of a slice from a DataFrame.\n",
      "Try using .loc[row_indexer,col_indexer] = value instead\n",
      "\n",
      "See the caveats in the documentation: https://pandas.pydata.org/pandas-docs/stable/user_guide/indexing.html#returning-a-view-versus-a-copy\n",
      "  \n"
     ]
    }
   ],
   "source": [
    "df_60 ['PUlocationID'] = df_60['PUlocationID'].fillna(-1)\n",
    "df_60 ['DOlocationID'] = df_60['DOlocationID'].fillna(-1)"
   ]
  },
  {
   "cell_type": "code",
   "execution_count": 22,
   "id": "productive-independence",
   "metadata": {},
   "outputs": [
    {
     "data": {
      "text/plain": [
       "0           True\n",
       "1           True\n",
       "3           True\n",
       "4           True\n",
       "5           True\n",
       "           ...  \n",
       "1154107    False\n",
       "1154108    False\n",
       "1154109    False\n",
       "1154110    False\n",
       "1154111     True\n",
       "Name: PUlocationID, Length: 1109826, dtype: bool"
      ]
     },
     "execution_count": 22,
     "metadata": {},
     "output_type": "execute_result"
    }
   ],
   "source": [
    "df_60['PUlocationID'] == -1"
   ]
  },
  {
   "cell_type": "code",
   "execution_count": 23,
   "id": "detailed-karaoke",
   "metadata": {},
   "outputs": [
    {
     "data": {
      "text/plain": [
       "83.52732770722618"
      ]
     },
     "execution_count": 23,
     "metadata": {},
     "output_type": "execute_result"
    }
   ],
   "source": [
    "(df_60[df_60['PUlocationID'] == -1].shape[0]/df_60.shape[0])*100"
   ]
  },
  {
   "cell_type": "markdown",
   "id": "residential-islam",
   "metadata": {},
   "source": [
    "#### Q4. One-hot encoding\n",
    "\n",
    "Let's apply one-hot encoding to the pickup and dropoff location IDs. We'll use only these two features for our model.\n",
    "\n",
    " - Turn the dataframe into a list of dictionaries\n",
    " - Fit a dictionary vectorizer\n",
    " - Get a feature matrix from it\n",
    " - What's the dimensionality of this matrix? (The number of columns).\n",
    "\n",
    "        - 2\n",
    "        - 152\n",
    "        - 352\n",
    "        - 525\n",
    "        - 725"
   ]
  },
  {
   "cell_type": "code",
   "execution_count": 24,
   "id": "timely-identifier",
   "metadata": {},
   "outputs": [],
   "source": [
    "categorical = ['PUlocationID', 'DOlocationID']"
   ]
  },
  {
   "cell_type": "code",
   "execution_count": 25,
   "id": "molecular-therapist",
   "metadata": {},
   "outputs": [
    {
     "name": "stderr",
     "output_type": "stream",
     "text": [
      "C:\\Users\\mayan\\anaconda3\\envs\\gputest\\lib\\site-packages\\pandas\\core\\frame.py:3069: SettingWithCopyWarning: \n",
      "A value is trying to be set on a copy of a slice from a DataFrame.\n",
      "Try using .loc[row_indexer,col_indexer] = value instead\n",
      "\n",
      "See the caveats in the documentation: https://pandas.pydata.org/pandas-docs/stable/user_guide/indexing.html#returning-a-view-versus-a-copy\n",
      "  self[k1] = value[k2]\n"
     ]
    }
   ],
   "source": [
    "df_60[categorical] = df_60[categorical].astype(str)"
   ]
  },
  {
   "cell_type": "code",
   "execution_count": 26,
   "id": "actual-crime",
   "metadata": {},
   "outputs": [],
   "source": [
    "train_dict = df_60[categorical].to_dict(orient = 'records')"
   ]
  },
  {
   "cell_type": "code",
   "execution_count": 27,
   "id": "persistent-effects",
   "metadata": {},
   "outputs": [],
   "source": [
    "dv = DictVectorizer()"
   ]
  },
  {
   "cell_type": "code",
   "execution_count": 28,
   "id": "irish-medication",
   "metadata": {},
   "outputs": [],
   "source": [
    "X_train = dv.fit_transform(train_dict)"
   ]
  },
  {
   "cell_type": "code",
   "execution_count": 29,
   "id": "divine-cookie",
   "metadata": {},
   "outputs": [
    {
     "data": {
      "text/plain": [
       "525"
      ]
     },
     "execution_count": 29,
     "metadata": {},
     "output_type": "execute_result"
    }
   ],
   "source": [
    "len(dv.feature_names_)"
   ]
  },
  {
   "cell_type": "markdown",
   "id": "obvious-oakland",
   "metadata": {},
   "source": [
    "##### Now let's use the feature matrix from the previous step to train a model.\n",
    "\n",
    "Train a plain linear regression model with default parameters\n",
    "Calculate the RMSE of the model on the training data\n",
    "What's the RMSE on train?\n",
    "\n",
    "    - 5.52\n",
    "    - 10.52\n",
    "    - 15.52\n",
    "    - 20.52"
   ]
  },
  {
   "cell_type": "code",
   "execution_count": 30,
   "id": "enabling-activation",
   "metadata": {},
   "outputs": [],
   "source": [
    "y_train = df_60.duration"
   ]
  },
  {
   "cell_type": "code",
   "execution_count": 31,
   "id": "expired-seattle",
   "metadata": {},
   "outputs": [
    {
     "data": {
      "text/plain": [
       "LinearRegression()"
      ]
     },
     "execution_count": 31,
     "metadata": {},
     "output_type": "execute_result"
    }
   ],
   "source": [
    "lr = LinearRegression()\n",
    "lr.fit(X_train, y_train)"
   ]
  },
  {
   "cell_type": "code",
   "execution_count": 32,
   "id": "integrated-flush",
   "metadata": {},
   "outputs": [],
   "source": [
    "y_pred = lr.predict(X_train)"
   ]
  },
  {
   "cell_type": "code",
   "execution_count": 33,
   "id": "determined-bradley",
   "metadata": {},
   "outputs": [
    {
     "data": {
      "text/plain": [
       "10.528519107223724"
      ]
     },
     "execution_count": 33,
     "metadata": {},
     "output_type": "execute_result"
    }
   ],
   "source": [
    "mse  = mean_squared_error(y_train, y_pred)\n",
    "mse**.5"
   ]
  },
  {
   "cell_type": "markdown",
   "id": "differential-container",
   "metadata": {},
   "source": [
    "###### Saving File"
   ]
  },
  {
   "cell_type": "code",
   "execution_count": 37,
   "id": "pediatric-blackjack",
   "metadata": {},
   "outputs": [],
   "source": [
    "with open( \"dict_vectorizer.p\", \"wb\" ) as f:\n",
    "    pickle.dump(dv, f)"
   ]
  },
  {
   "cell_type": "code",
   "execution_count": 38,
   "id": "social-terrain",
   "metadata": {},
   "outputs": [],
   "source": [
    "with open( \"model.p\", \"wb\" ) as f:\n",
    "    pickle.dump( lr, f)"
   ]
  }
 ],
 "metadata": {
  "kernelspec": {
   "display_name": "Python 3",
   "language": "python",
   "name": "python3"
  },
  "language_info": {
   "codemirror_mode": {
    "name": "ipython",
    "version": 3
   },
   "file_extension": ".py",
   "mimetype": "text/x-python",
   "name": "python",
   "nbconvert_exporter": "python",
   "pygments_lexer": "ipython3",
   "version": "3.6.13"
  }
 },
 "nbformat": 4,
 "nbformat_minor": 5
}
